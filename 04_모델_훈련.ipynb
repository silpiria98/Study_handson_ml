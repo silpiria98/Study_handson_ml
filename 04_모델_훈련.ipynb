{
 "cells": [
  {
   "cell_type": "markdown",
   "metadata": {},
   "source": [
    "## __1. 모델의 훈련__\n",
    "--- "
   ]
  },
  {
   "cell_type": "markdown",
   "metadata": {},
   "source": [
    "'모델을 훈련 시킨다', '모델이 학습한다'라는 것은 모델 안의 파라미터들을 조정해나가는 것입니다.  \n",
    "모델을 평가하는 <b>손실함수</b> $\\theta$로 모델을 평가하여 이를 <b>최소화</b>하는 과정을 모델의 훈련이라고 합니다.\n",
    "\n",
    "### __1.1 정규 방정식__\n",
    "$\\hat\\theta = (X^{T}X)^{-1}X^{T}y$  \n",
    "\n",
    "  \n",
    "  "
   ]
  },
  {
   "cell_type": "markdown",
   "metadata": {},
   "source": [
    "#### ___정규 방정식 증명___"
   ]
  },
  {
   "cell_type": "markdown",
   "metadata": {},
   "source": [
    "> $y_{i} = w_{0}+w_{1}x_{i}+\\epsilon_{i}$ 형태로 이루어진 행렬 $Y = Xw$에서,  \n",
    "  MSE $ = \\theta = \\sum_{i}^{n} (w_{1}x_{i}+w_{0}-y_{i})^2$이며,  \n",
    "  이를 최소화 하기 위해 가중치(파라미터) $w_{1}, w_{2}$를 각각 편미분해주고 0으로하는 w를 찾는다.  \n",
    "\n",
    ">  ${\\delta \\theta \\over \\delta w_{0}} = \\sum_{i}^{n} (w_{1}x_{i}+w_{0}-y_{i})=0$   \n",
    "  ${\\delta \\theta \\over \\delta w_{1}} = \\sum_{i}^{n} (w_{1}x_{i}+w_{0}-y_{i})x_{i}=0$  \n",
    "  위를 정리하여  \n",
    "  $w_{0}n + w_{1}\\sum_{i}^{n}{x_{i}}= \\sum_{i}^{n}{y_{i}}$  \n",
    "  $w_{0}\\sum_{i}^{n}{x_{i}} + w_{1}\\sum_{i}^{n}{x_{i}}^2 = \\sum_{i}^{n}{y_{i}}x_{i}$  \n",
    "  두 좌변을 행렬로 나타내어,  \n",
    "  $\\begin{bmatrix}n&\\sum_{i}^{n}{x_{i}}\\\\\\sum_{i}^{n}{x_{i}}&\\sum_{i}^{n}{x_{i}}^2\\\\ \\end{bmatrix} \\begin{bmatrix} w_{0}\\\\w_{1}\\\\ \\end{bmatrix}$\n"
   ]
  },
  {
   "cell_type": "markdown",
   "metadata": {},
   "source": []
  }
 ],
 "metadata": {
  "kernelspec": {
   "display_name": "Python 3.8.5 ('base')",
   "language": "python",
   "name": "python3"
  },
  "language_info": {
   "name": "python",
   "version": "3.8.5"
  },
  "orig_nbformat": 4,
  "vscode": {
   "interpreter": {
    "hash": "704561b0d644309cd2ab0220a5b729490d45ccecc249cd05cdfebaf802484c8f"
   }
  }
 },
 "nbformat": 4,
 "nbformat_minor": 2
}
